{
 "cells": [
  {
   "cell_type": "code",
   "execution_count": 7,
   "id": "be7c0a94",
   "metadata": {},
   "outputs": [],
   "source": [
    "import tkinter as tk\n"
   ]
  },
  {
   "cell_type": "code",
   "execution_count": 11,
   "id": "20d524e3",
   "metadata": {},
   "outputs": [],
   "source": [
    "import tkinter as tk\n",
    "\n",
    "# create a new tkinter window\n",
    "root = tk.Tk()\n",
    "root.title(\"Calculator\")\n",
    "\n",
    "# function to perform calculations\n",
    "def calculate():\n",
    "    \"\"\"Perform the calculation based on the user input.\"\"\"\n",
    "    try:\n",
    "        result = eval(entry.get())\n",
    "        entry.delete(0, tk.END)\n",
    "        entry.insert(0, str(result))\n",
    "    except:\n",
    "        entry.delete(0, tk.END)\n",
    "        entry.insert(0, \"Error\")\n",
    "\n",
    "# create the user interface\n",
    "entry = tk.Entry(root, width=20, font=(\"Arial\", 18))\n",
    "entry.grid(row=0, column=0, columnspan=4, padx=5, pady=5)\n",
    "\n",
    "button1 = tk.Button(root, text=\"1\", width=5, height=2, command=lambda: entry.insert(tk.END, \"1\"))\n",
    "button1.grid(row=1, column=0)\n",
    "\n",
    "button2 = tk.Button(root, text=\"2\", width=5, height=2, command=lambda: entry.insert(tk.END, \"2\"))\n",
    "button2.grid(row=1, column=1)\n",
    "\n",
    "button3 = tk.Button(root, text=\"3\", width=5, height=2, command=lambda: entry.insert(tk.END, \"3\"))\n",
    "button3.grid(row=1, column=2)\n",
    "\n",
    "button4 = tk.Button(root, text=\"4\", width=5, height=2, command=lambda: entry.insert(tk.END, \"4\"))\n",
    "button4.grid(row=2, column=0)\n",
    "\n",
    "button5 = tk.Button(root, text=\"5\", width=5, height=2, command=lambda: entry.insert(tk.END, \"5\"))\n",
    "button5.grid(row=2, column=1)\n",
    "\n",
    "button6 = tk.Button(root, text=\"6\", width=5, height=2, command=lambda: entry.insert(tk.END, \"6\"))\n",
    "button6.grid(row=2, column=2)\n",
    "\n",
    "button7 = tk.Button(root, text=\"7\", width=5, height=2, command=lambda: entry.insert(tk.END, \"7\"))\n",
    "button7.grid(row=3, column=0)\n",
    "\n",
    "button8 = tk.Button(root, text=\"8\", width=5, height=2, command=lambda: entry.insert(tk.END, \"8\"))\n",
    "button8.grid(row=3, column=1)\n",
    "\n",
    "button9 = tk.Button(root, text=\"9\", width=5, height=2, command=lambda: entry.insert(tk.END, \"9\"))\n",
    "button9.grid(row=3, column=2)\n",
    "\n",
    "button0 = tk.Button(root, text=\"0\", width=5, height=2, command=lambda: entry.insert(tk.END, \"0\"))\n",
    "button0.grid(row=4, column=1)\n",
    "\n",
    "button_plus = tk.Button(root, text=\"+\", width=5, height=2, command=lambda: entry.insert(tk.END, \"+\"))\n",
    "button_plus.grid(row=1, column=3)\n",
    "\n",
    "button_minus = tk.Button(root, text=\"-\", width=5, height=2, command=lambda: entry.insert(tk.END, \"-\"))\n",
    "button_minus.grid(row=2, column=3)\n",
    "\n",
    "button_multiply = tk.Button(root, text=\"*\", width=5, height=2, command=lambda: entry.insert(tk.END, \"*\"))\n",
    "button_multiply.grid(row=3, column=3)\n",
    "\n",
    "button_divide = tk.Button(root, text=\"/\", width=5, height=2, command=lambda: entry.insert(tk.END, \"/\"))\n",
    "button_divide.grid(row=4, column=3)\n",
    "\n",
    "button_clear = tk.Button(root, text=\"Clear\", width=5, height=2, command=lambda: entry.delete(0, tk.END))\n",
    "button_clear.grid(row=4, column=0)\n",
    "\n",
    "button_equals = tk.Button(root, text=\"=\", width=5, height=2, command=calculate)\n",
    "button_equals.grid(row=4, column=2)\n"
   ]
  },
  {
   "cell_type": "code",
   "execution_count": 12,
   "id": "05878682",
   "metadata": {},
   "outputs": [],
   "source": [
    "# Start the main loop\n",
    "root.mainloop()"
   ]
  },
  {
   "cell_type": "code",
   "execution_count": null,
   "id": "106ac39b",
   "metadata": {},
   "outputs": [],
   "source": []
  }
 ],
 "metadata": {
  "kernelspec": {
   "display_name": "Python 3 (ipykernel)",
   "language": "python",
   "name": "python3"
  },
  "language_info": {
   "codemirror_mode": {
    "name": "ipython",
    "version": 3
   },
   "file_extension": ".py",
   "mimetype": "text/x-python",
   "name": "python",
   "nbconvert_exporter": "python",
   "pygments_lexer": "ipython3",
   "version": "3.10.6"
  }
 },
 "nbformat": 4,
 "nbformat_minor": 5
}
